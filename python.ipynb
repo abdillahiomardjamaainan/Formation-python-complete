{
 "cells": [
  {
   "cell_type": "markdown",
   "id": "6d1abe58",
   "metadata": {},
   "source": [
    "Cours sur les Boucles"
   ]
  },
  {
   "cell_type": "markdown",
   "id": "32b55705",
   "metadata": {},
   "source": [
    "Une boucle for sert a répéter une action pour chaque élément d'une sequence\n",
    "\n",
    "la syntaxe général est la suivante:\n",
    "for variable in sequence:\n",
    "        ##bloc d'instruction"
   ]
  },
  {
   "cell_type": "code",
   "execution_count": 4,
   "id": "112385cf",
   "metadata": {},
   "outputs": [
    {
     "name": "stdout",
     "output_type": "stream",
     "text": [
      "0\n",
      "1\n",
      "2\n",
      "3\n",
      "4\n"
     ]
    }
   ],
   "source": [
    "##Avec rang()\n",
    "for i in range(5):\n",
    "    print(i)"
   ]
  },
  {
   "cell_type": "code",
   "execution_count": 7,
   "id": "090b1263",
   "metadata": {},
   "outputs": [
    {
     "name": "stdout",
     "output_type": "stream",
     "text": [
      "fruit : pomme\n",
      "fruit : banane\n",
      "fruit : orange\n"
     ]
    }
   ],
   "source": [
    "fruits=[\"pomme\",\"banane\",\"orange\"]\n",
    "for fruit in fruits:\n",
    "    print(\"fruit :\",fruit)"
   ]
  },
  {
   "cell_type": "code",
   "execution_count": null,
   "id": "14d49441",
   "metadata": {},
   "outputs": [
    {
     "name": "stdout",
     "output_type": "stream",
     "text": [
      "i: 1\n",
      "i: 4\n",
      "i: 7\n"
     ]
    }
   ],
   "source": [
    "for i in range(1,10,3):\n",
    "    print(\"i:\",i)"
   ]
  },
  {
   "cell_type": "code",
   "execution_count": 23,
   "id": "845eddc3",
   "metadata": {},
   "outputs": [
    {
     "name": "stdout",
     "output_type": "stream",
     "text": [
      "nom : Saad\n",
      "age : 30\n",
      "ville : Paris\n"
     ]
    }
   ],
   "source": [
    "##Avec un dictionnaire\n",
    "personne={\"nom\":\"Saad\",\"age\":30,\"ville\":\"Paris\"}\n",
    "for cle,valeur in personne.items():\n",
    "    print(cle,\":\",valeur)"
   ]
  },
  {
   "cell_type": "code",
   "execution_count": 31,
   "id": "badab029",
   "metadata": {},
   "outputs": [
    {
     "name": "stdout",
     "output_type": "stream",
     "text": [
      "Nom: Ali , Numéro de téléphone : 0123456789\n",
      "Nom: Sara , Numéro de téléphone : 9876543210\n",
      "Nom: John , Numéro de téléphone : 5555555555\n",
      "Nom: Youssef , Numéro de téléphone : 0619202122\n"
     ]
    }
   ],
   "source": [
    "Contacts={\"Ali\": \"0123456789\",\"Sara\": \"9876543210\",\"John\": \"5555555555\"}\n",
    "Contacts[\"Youssef\"]=\"0619202122\"\n",
    "for cle,valeur in Contacts.items():\n",
    "    print(\"Nom:\",cle, \",\",\"Numéro de téléphone :\",valeur)"
   ]
  },
  {
   "cell_type": "markdown",
   "id": "5628ae2c",
   "metadata": {},
   "source": [
    "EXOS:SUIVI DES VENTES D'une équipe\n",
    "\n",
    "Une entreprise veut suivre les ventes mensuelles de son equipe commerciale."
   ]
  },
  {
   "cell_type": "code",
   "execution_count": 39,
   "id": "0f9ffb94",
   "metadata": {},
   "outputs": [
    {
     "name": "stdout",
     "output_type": "stream",
     "text": [
      "Vendeur: Charlie , Ventes: 18000\n",
      "Vendeur: Eve , Ventes: 20000\n"
     ]
    }
   ],
   "source": [
    "Ventes={\"Alice\":15000,\"Bob\":12000,\"Charlie\":18000,\"Diana\":9000,\"Eve\":20000}\n",
    "\n",
    "for cle,valeur in Ventes.items():\n",
    "    if valeur > 15000:\n",
    "        print(\"Vendeur:\", cle, \",\", \"Ventes:\", valeur)"
   ]
  },
  {
   "cell_type": "code",
   "execution_count": 52,
   "id": "8affb849",
   "metadata": {},
   "outputs": [
    {
     "name": "stdout",
     "output_type": "stream",
     "text": [
      "Chiffre d'affaires: 74000\n"
     ]
    }
   ],
   "source": [
    "\n",
    "for cle,valeur in Ventes.items():\n",
    "    calcul=sum(Ventes.values())\n",
    "print(\"Chiffre d'affaires:\", calcul)"
   ]
  },
  {
   "cell_type": "code",
   "execution_count": 53,
   "id": "f9361204",
   "metadata": {},
   "outputs": [
    {
     "name": "stdout",
     "output_type": "stream",
     "text": [
      "Meilleure vente: 20000\n"
     ]
    }
   ],
   "source": [
    "for cle,valeur in Ventes.items():\n",
    "    m=max(Ventes.values())\n",
    "print(\"Meilleure vente:\", m)"
   ]
  },
  {
   "cell_type": "code",
   "execution_count": 56,
   "id": "a0020031",
   "metadata": {},
   "outputs": [
    {
     "name": "stdout",
     "output_type": "stream",
     "text": [
      "Prix total: 54\n"
     ]
    }
   ],
   "source": [
    "Prix=[12,13,14,15]\n",
    "C=0\n",
    "for i in Prix:\n",
    "    C+=i\n",
    "print(\"Prix total:\", C)\n"
   ]
  },
  {
   "cell_type": "code",
   "execution_count": null,
   "id": "90643bb0",
   "metadata": {},
   "outputs": [
    {
     "name": "stdout",
     "output_type": "stream",
     "text": [
      "Nombre pair: 0\n",
      "Nombre pair: 2\n",
      "Nombre pair: 4\n",
      "Nombre pair: 6\n",
      "Nombre pair: 8\n",
      "Nombre pair: 10\n",
      "Nombre pair: 12\n",
      "Nombre pair: 14\n",
      "Nombre pair: 16\n",
      "Nombre pair: 18\n",
      "Nombre pair: 20\n"
     ]
    }
   ],
   "source": [
    "r=range(21)\n",
    "for i in r:\n",
    "    if i % 2 == 0:\n",
    "      print(\"Nombre pair:\", i)\n"
   ]
  },
  {
   "cell_type": "code",
   "execution_count": 62,
   "id": "58a431d3",
   "metadata": {},
   "outputs": [
    {
     "name": "stdout",
     "output_type": "stream",
     "text": [
      "La moyenne des notes est: 12.0\n"
     ]
    }
   ],
   "source": [
    "note1=int(input(\"Entrez une note: \"))\n",
    "note2=int(input(\"Entrez une autre note: \"))\n",
    "note3=int(input(\"Entrez une troisième note: \"))\n",
    "note4=int(input(\"Entrez une quatrième note: \"))\n",
    "note5=int(input(\"Entrez une cinquième note: \"))\n",
    "notes=[note1,note2,note3,note4,note5]\n",
    "somme=0\n",
    "for n in notes:\n",
    "    somme+=n\n",
    "    moyenne=somme/len(notes)\n",
    "print(\"La moyenne des notes est:\", moyenne)"
   ]
  },
  {
   "cell_type": "code",
   "execution_count": null,
   "id": "a9ffce30",
   "metadata": {},
   "outputs": [
    {
     "name": "stdout",
     "output_type": "stream",
     "text": [
      "s\n",
      "a\n",
      "a\n",
      "d\n"
     ]
    }
   ],
   "source": [
    "Prenom=\"Saad\"\n",
    "for i in Prenom:\n",
    "    print(i.upper)"
   ]
  },
  {
   "cell_type": "code",
   "execution_count": 67,
   "id": "a3d12abf",
   "metadata": {},
   "outputs": [
    {
     "name": "stdout",
     "output_type": "stream",
     "text": [
      "Voyelle trouvée: a\n",
      "Voyelle trouvée: i\n"
     ]
    }
   ],
   "source": [
    "user=input(\"entrer un mot: \")\n",
    "for i in user:\n",
    "    if i in \"aeiouy\":\n",
    "        print(\"Voyelle trouvée:\", i)\n",
    "   "
   ]
  },
  {
   "cell_type": "code",
   "execution_count": 68,
   "id": "fb96d848",
   "metadata": {},
   "outputs": [
    {
     "name": "stdout",
     "output_type": "stream",
     "text": [
      "Client : Alice, Facture : 100\n",
      "Client : Bob, Facture : 200\n",
      "Client : Charlie, Facture : 150\n"
     ]
    }
   ],
   "source": [
    "Clients = [\"Alice\", \"Bob\", \"Charlie\"]\n",
    "factures = [100, 200, 150]\n",
    "\n",
    "for i in range(len(Clients)):\n",
    "    print(f\"Client : {Clients[i]}, Facture : {factures[i]}\")"
   ]
  },
  {
   "cell_type": "code",
   "execution_count": 71,
   "id": "2552eb6e",
   "metadata": {},
   "outputs": [
    {
     "name": "stdout",
     "output_type": "stream",
     "text": [
      "Pomme est de couleur Rouge\n",
      "Pomme est de couleur Jaune\n",
      "Pomme est de couleur Rouge\n",
      "Banane est de couleur Rouge\n",
      "Banane est de couleur Jaune\n",
      "Banane est de couleur Rouge\n",
      "Cerise est de couleur Rouge\n",
      "Cerise est de couleur Jaune\n",
      "Cerise est de couleur Rouge\n"
     ]
    }
   ],
   "source": [
    "fruits = [\"Pomme\", \"Banane\", \"Cerise\"]\n",
    "couleurs = [\"Rouge\", \"Jaune\", \"Rouge\"]\n",
    "for fruit in fruits:\n",
    "    for couleur in couleurs:\n",
    "        print(f\"{fruit} est de couleur {couleur}\")\n",
    "    "
   ]
  },
  {
   "cell_type": "code",
   "execution_count": 74,
   "id": "326a7725",
   "metadata": {},
   "outputs": [
    {
     "name": "stdout",
     "output_type": "stream",
     "text": [
      "fruit:Pomme est de couleur :Rouge\n",
      "fruit:Pomme est de couleur :Jaune\n",
      "fruit:Pomme est de couleur :Rouge\n",
      "fruit:Banane est de couleur :Rouge\n",
      "fruit:Banane est de couleur :Jaune\n",
      "fruit:Banane est de couleur :Rouge\n",
      "fruit:Cerise est de couleur :Rouge\n",
      "fruit:Cerise est de couleur :Jaune\n",
      "fruit:Cerise est de couleur :Rouge\n"
     ]
    }
   ],
   "source": [
    "for a in fruits:\n",
    "    for b in couleurs:\n",
    "        print(f\"fruit:{a} est de couleur :{b}\")"
   ]
  },
  {
   "cell_type": "code",
   "execution_count": 76,
   "id": "e199f328",
   "metadata": {},
   "outputs": [
    {
     "name": "stdout",
     "output_type": "stream",
     "text": [
      "le rayon Boisson contient Eau\n",
      "le rayon Boisson contient Jus\n",
      "le rayon Boisson contient Soda\n",
      "le rayon Snacks contient Chips\n",
      "le rayon Snacks contient Barre chocolatée\n"
     ]
    }
   ],
   "source": [
    "inventaire={\"Boisson\":[\"Eau\",\"Jus\",\"Soda\"],\"Snacks\":[\"Chips\",\"Barre chocolatée\"]}\n",
    "for cle,valeur in inventaire.items():\n",
    "    for j in valeur:\n",
    "        print(f\"le rayon {cle} contient {j}\")\n",
    "    "
   ]
  },
  {
   "cell_type": "code",
   "execution_count": 77,
   "id": "a49a4c79",
   "metadata": {},
   "outputs": [
    {
     "name": "stdout",
     "output_type": "stream",
     "text": [
      "il s'agit d'un multiple de 7 Stop\n"
     ]
    }
   ],
   "source": [
    "for i in range(21):\n",
    "    if i%7==0:\n",
    "        print(\"il s'agit d'un multiple de 7\",\"Stop\")\n",
    "        break\n",
    "    print(\"Nombre:\", i)\n",
    "    "
   ]
  },
  {
   "cell_type": "code",
   "execution_count": 87,
   "id": "64c8097a",
   "metadata": {},
   "outputs": [
    {
     "name": "stdout",
     "output_type": "stream",
     "text": [
      "Alice\n",
      "Bob\n"
     ]
    }
   ],
   "source": [
    "P=[\"Alice\",\"Bob\",\"Charlie\"]\n",
    "for i in P:\n",
    "    if i==\"Charlie\":\n",
    "        continue\n",
    "    print(i)"
   ]
  },
  {
   "cell_type": "code",
   "execution_count": 90,
   "id": "fc139810",
   "metadata": {},
   "outputs": [
    {
     "name": "stdout",
     "output_type": "stream",
     "text": [
      "Commande: Pizza\n",
      "Commande: Pâtes\n",
      "Commande: Salade\n"
     ]
    }
   ],
   "source": [
    "## Gestion des commandes annulées\n",
    "\n",
    "commandes=[\"Pizza\",\"Pâtes\",\"Annulée\",\"Salade\"]\n",
    "for i in commandes:\n",
    "    if i==\"Annulée\":\n",
    "        continue\n",
    "    print(\"Commande:\", i)"
   ]
  },
  {
   "cell_type": "code",
   "execution_count": null,
   "id": "f68aebd2",
   "metadata": {},
   "outputs": [
    {
     "name": "stdout",
     "output_type": "stream",
     "text": [
      "Email envoyé a Bob\n",
      "Email envoyé a Charlie\n"
     ]
    }
   ],
   "source": [
    "\n"
   ]
  },
  {
   "cell_type": "markdown",
   "id": "b8bccaf3",
   "metadata": {},
   "source": [
    "Le boucle while permet de répéter un bloc de code tant qu'une condition est vrai.\n",
    "\n",
    "while condition\n",
    "   \n",
    "   ##instruction a répété"
   ]
  },
  {
   "cell_type": "code",
   "execution_count": 3,
   "id": "90c1df16",
   "metadata": {},
   "outputs": [
    {
     "name": "stdout",
     "output_type": "stream",
     "text": [
      "0\n",
      "1\n",
      "2\n",
      "3\n",
      "4\n"
     ]
    }
   ],
   "source": [
    "i=0\n",
    "while i < 5:\n",
    "    print(i)\n",
    "    i += 1"
   ]
  },
  {
   "cell_type": "code",
   "execution_count": 7,
   "id": "06145743",
   "metadata": {},
   "outputs": [
    {
     "name": "stdout",
     "output_type": "stream",
     "text": [
      "Commande: Pizza\n",
      "Commande: Salade\n",
      "Commande: Burger\n"
     ]
    }
   ],
   "source": [
    "Commandes=[\"Pizza\",\"Salade\",\"Burger\"]\n",
    "while Commandes:\n",
    "    commande=Commandes.pop(0)\n",
    "    print(\"Commande:\", commande)"
   ]
  },
  {
   "cell_type": "code",
   "execution_count": null,
   "id": "4c494918",
   "metadata": {},
   "outputs": [
    {
     "name": "stdout",
     "output_type": "stream",
     "text": [
      "Accès autorisé\n",
      "Mot de passe incorrect\n"
     ]
    }
   ],
   "source": [
    "mot_de_passe = \"1234\"\n",
    "nombre_essais = 0\n",
    "\n",
    "while nombre_essais < 3:\n",
    "    saisie = input(\"Entrez le mot de passe: \")\n",
    "    if saisie == mot_de_passe:\n",
    "        print(\"Accès autorisé\")\n",
    "        break\n",
    "    else:\n",
    "        print(\"Mot de passe incorrect\")\n",
    "        nombre_essais += 1\n"
   ]
  },
  {
   "cell_type": "code",
   "execution_count": 23,
   "id": "1d860755",
   "metadata": {},
   "outputs": [
    {
     "name": "stdout",
     "output_type": "stream",
     "text": [
      "Stock restant: 9\n",
      "Stock restant: 8\n",
      "Stock restant: 7\n",
      "Stock restant: 6\n",
      "Stock restant: 5\n",
      "Stock restant: 4\n",
      "Stock restant: 3\n",
      "Stock restant: 2\n",
      "Stock restant: 1\n",
      "Stock restant: 0\n",
      "Stock épuisé\n"
     ]
    }
   ],
   "source": [
    "stock=10\n",
    "while stock > 0:\n",
    "    stock -= 1\n",
    "    print(\"Stock restant:\", stock)\n",
    "    \n",
    "print(\"Stock épuisé\")   "
   ]
  },
  {
   "cell_type": "code",
   "execution_count": 20,
   "id": "9381faa2",
   "metadata": {},
   "outputs": [
    {
     "name": "stdout",
     "output_type": "stream",
     "text": [
      "saad\n",
      "omar\n",
      "djama\n",
      "ainan\n"
     ]
    }
   ],
   "source": [
    "nc=\"stop\"\n",
    "nt=\"\"\n",
    "while nc != nt:\n",
    "    nt = input(\"Entrez le nom de l'article à vendre (ou 'stop' pour quitter): \")\n",
    "    if nt == \"stop\":\n",
    "        break\n",
    "    print(nt)"
   ]
  },
  {
   "cell_type": "code",
   "execution_count": 22,
   "id": "3e515266",
   "metadata": {},
   "outputs": [
    {
     "name": "stdout",
     "output_type": "stream",
     "text": [
      "Il reste 10 produit(s) en stock.\n",
      "Il reste 9 produit(s) en stock.\n",
      "Il reste 8 produit(s) en stock.\n",
      "Il reste 7 produit(s) en stock.\n",
      "Il reste 6 produit(s) en stock.\n",
      "Il reste 5 produit(s) en stock.\n",
      "Il reste 4 produit(s) en stock.\n",
      "Il reste 3 produit(s) en stock.\n",
      "Il reste 2 produit(s) en stock.\n",
      "Il reste 1 produit(s) en stock.\n",
      "Stock épuisé ! 🚫\n"
     ]
    }
   ],
   "source": [
    "stock = 10  \n",
    "\n",
    "while stock > 0:\n",
    "    print(f\"Il reste {stock} produit(s) en stock.\")\n",
    "    stock -= 1  # Une vente, on enlève 1 produit\n",
    "\n",
    "print(\"Stock épuisé ! 🚫\")\n"
   ]
  },
  {
   "cell_type": "code",
   "execution_count": 6,
   "id": "931cc5fd",
   "metadata": {},
   "outputs": [
    {
     "name": "stdout",
     "output_type": "stream",
     "text": [
      "Connexion réussie !\n",
      "\n",
      "Menu principal:\n",
      "1: Consulter le stock\n",
      "2: Vendre un produit\n",
      "3: Quitter\n",
      "\n",
      "Menu principal:\n",
      "1: Consulter le stock\n",
      "2: Vendre un produit\n",
      "3: Quitter\n",
      "\n",
      "Menu principal:\n",
      "1: Consulter le stock\n",
      "2: Vendre un produit\n",
      "3: Quitter\n",
      "\n",
      "Menu principal:\n",
      "1: Consulter le stock\n",
      "2: Vendre un produit\n",
      "3: Quitter\n",
      "\n",
      "Menu principal:\n",
      "1: Consulter le stock\n",
      "2: Vendre un produit\n",
      "3: Quitter\n",
      "\n",
      "Menu principal:\n",
      "1: Consulter le stock\n",
      "2: Vendre un produit\n",
      "3: Quitter\n",
      "\n",
      "Menu principal:\n",
      "1: Consulter le stock\n",
      "2: Vendre un produit\n",
      "3: Quitter\n",
      "\n",
      "Menu principal:\n",
      "1: Consulter le stock\n",
      "2: Vendre un produit\n",
      "3: Quitter\n"
     ]
    },
    {
     "ename": "KeyboardInterrupt",
     "evalue": "Interrupted by user",
     "output_type": "error",
     "traceback": [
      "\u001b[31m---------------------------------------------------------------------------\u001b[39m",
      "\u001b[31mKeyboardInterrupt\u001b[39m                         Traceback (most recent call last)",
      "\u001b[36mCell\u001b[39m\u001b[36m \u001b[39m\u001b[32mIn[6]\u001b[39m\u001b[32m, line 20\u001b[39m\n\u001b[32m     18\u001b[39m \u001b[38;5;28;01mfor\u001b[39;00m key, value \u001b[38;5;129;01min\u001b[39;00m Menu_principal.items():\n\u001b[32m     19\u001b[39m     \u001b[38;5;28mprint\u001b[39m(\u001b[33mf\u001b[39m\u001b[33m\"\u001b[39m\u001b[38;5;132;01m{\u001b[39;00mkey\u001b[38;5;132;01m}\u001b[39;00m\u001b[33m: \u001b[39m\u001b[38;5;132;01m{\u001b[39;00mvalue\u001b[38;5;132;01m}\u001b[39;00m\u001b[33m\"\u001b[39m)\n\u001b[32m---> \u001b[39m\u001b[32m20\u001b[39m choix = \u001b[38;5;28;43minput\u001b[39;49m\u001b[43m(\u001b[49m\u001b[33;43m\"\u001b[39;49m\u001b[33;43mVeuillez choisir une option: \u001b[39;49m\u001b[33;43m\"\u001b[39;49m\u001b[43m)\u001b[49m\n\u001b[32m     21\u001b[39m \u001b[38;5;28;01mif\u001b[39;00m choix == \u001b[33m\"\u001b[39m\u001b[33m3\u001b[39m\u001b[33m\"\u001b[39m:\n\u001b[32m     22\u001b[39m     \u001b[38;5;28mprint\u001b[39m(\u001b[33m\"\u001b[39m\u001b[33mAu revoir !\u001b[39m\u001b[33m\"\u001b[39m)\n",
      "\u001b[36mFile \u001b[39m\u001b[32m~\\AppData\\Roaming\\Python\\Python313\\site-packages\\ipykernel\\kernelbase.py:1275\u001b[39m, in \u001b[36mKernel.raw_input\u001b[39m\u001b[34m(self, prompt)\u001b[39m\n\u001b[32m   1273\u001b[39m     msg = \u001b[33m\"\u001b[39m\u001b[33mraw_input was called, but this frontend does not support input requests.\u001b[39m\u001b[33m\"\u001b[39m\n\u001b[32m   1274\u001b[39m     \u001b[38;5;28;01mraise\u001b[39;00m StdinNotImplementedError(msg)\n\u001b[32m-> \u001b[39m\u001b[32m1275\u001b[39m \u001b[38;5;28;01mreturn\u001b[39;00m \u001b[38;5;28;43mself\u001b[39;49m\u001b[43m.\u001b[49m\u001b[43m_input_request\u001b[49m\u001b[43m(\u001b[49m\n\u001b[32m   1276\u001b[39m \u001b[43m    \u001b[49m\u001b[38;5;28;43mstr\u001b[39;49m\u001b[43m(\u001b[49m\u001b[43mprompt\u001b[49m\u001b[43m)\u001b[49m\u001b[43m,\u001b[49m\n\u001b[32m   1277\u001b[39m \u001b[43m    \u001b[49m\u001b[38;5;28;43mself\u001b[39;49m\u001b[43m.\u001b[49m\u001b[43m_parent_ident\u001b[49m\u001b[43m[\u001b[49m\u001b[33;43m\"\u001b[39;49m\u001b[33;43mshell\u001b[39;49m\u001b[33;43m\"\u001b[39;49m\u001b[43m]\u001b[49m\u001b[43m,\u001b[49m\n\u001b[32m   1278\u001b[39m \u001b[43m    \u001b[49m\u001b[38;5;28;43mself\u001b[39;49m\u001b[43m.\u001b[49m\u001b[43mget_parent\u001b[49m\u001b[43m(\u001b[49m\u001b[33;43m\"\u001b[39;49m\u001b[33;43mshell\u001b[39;49m\u001b[33;43m\"\u001b[39;49m\u001b[43m)\u001b[49m\u001b[43m,\u001b[49m\n\u001b[32m   1279\u001b[39m \u001b[43m    \u001b[49m\u001b[43mpassword\u001b[49m\u001b[43m=\u001b[49m\u001b[38;5;28;43;01mFalse\u001b[39;49;00m\u001b[43m,\u001b[49m\n\u001b[32m   1280\u001b[39m \u001b[43m\u001b[49m\u001b[43m)\u001b[49m\n",
      "\u001b[36mFile \u001b[39m\u001b[32m~\\AppData\\Roaming\\Python\\Python313\\site-packages\\ipykernel\\kernelbase.py:1320\u001b[39m, in \u001b[36mKernel._input_request\u001b[39m\u001b[34m(self, prompt, ident, parent, password)\u001b[39m\n\u001b[32m   1317\u001b[39m \u001b[38;5;28;01mexcept\u001b[39;00m \u001b[38;5;167;01mKeyboardInterrupt\u001b[39;00m:\n\u001b[32m   1318\u001b[39m     \u001b[38;5;66;03m# re-raise KeyboardInterrupt, to truncate traceback\u001b[39;00m\n\u001b[32m   1319\u001b[39m     msg = \u001b[33m\"\u001b[39m\u001b[33mInterrupted by user\u001b[39m\u001b[33m\"\u001b[39m\n\u001b[32m-> \u001b[39m\u001b[32m1320\u001b[39m     \u001b[38;5;28;01mraise\u001b[39;00m \u001b[38;5;167;01mKeyboardInterrupt\u001b[39;00m(msg) \u001b[38;5;28;01mfrom\u001b[39;00m\u001b[38;5;250m \u001b[39m\u001b[38;5;28;01mNone\u001b[39;00m\n\u001b[32m   1321\u001b[39m \u001b[38;5;28;01mexcept\u001b[39;00m \u001b[38;5;167;01mException\u001b[39;00m:\n\u001b[32m   1322\u001b[39m     \u001b[38;5;28mself\u001b[39m.log.warning(\u001b[33m\"\u001b[39m\u001b[33mInvalid Message:\u001b[39m\u001b[33m\"\u001b[39m, exc_info=\u001b[38;5;28;01mTrue\u001b[39;00m)\n",
      "\u001b[31mKeyboardInterrupt\u001b[39m: Interrupted by user"
     ]
    }
   ],
   "source": [
    "id=\"Admin\"\n",
    "mot_de_passe=1234\n",
    "lg=input(\"entree votre login: \")\n",
    "mdp=int(input(\"entrez votre mot de passe: \"))\n",
    "\n",
    "Menu_principal = {\n",
    "    \"1\": \"Consulter le stock\",\n",
    "    \"2\": \"Vendre un produit\",\n",
    "    \"3\": \"Quitter\"\n",
    "}\n",
    "\n",
    "if lg != id or mdp != mot_de_passe:\n",
    "    print(\"Connexion échouée !\")\n",
    "else:\n",
    "    print(\"Connexion réussie !\")\n",
    "    while True:\n",
    "        print(\"\\nMenu principal:\")\n",
    "        for key, value in Menu_principal.items():\n",
    "            print(f\"{key}: {value}\")\n",
    "        choix = input(\"Veuillez choisir une option: \")\n",
    "        if choix == \"3\":\n",
    "            print(\"Au revoir !\")\n",
    "            break\n",
    "        \n"
   ]
  },
  {
   "cell_type": "code",
   "execution_count": null,
   "id": "193568af",
   "metadata": {},
   "outputs": [
    {
     "name": "stdout",
     "output_type": "stream",
     "text": [
      "\n",
      "Bienvenu dans la boutique:\n",
      "1: Ajouter un produit\n",
      "2: Consulter le panier\n",
      "3: Supprimer le produit\n",
      "4: Quitter\n",
      "Merci de votre visite!\n"
     ]
    }
   ],
   "source": [
    "B={\"1\":\"Ajouter un produit\",\"2\":\"Consulter le panier\",\"3\":\"Supprimer le produit\",\"4\":\"Quitter\"}\n",
    "Panier=[] \n",
    "while True:\n",
    "    print(\"\\nBienvenu dans la boutique:\")\n",
    "    for cle,valeur in B.items():\n",
    "        print(f\"{cle}: {valeur}\")\n",
    "    choix = input(\"Veuillez choisir une option: \")\n",
    "    if choix == \"1\":\n",
    "        produit = input(\"Entrez le nom du produit à ajouter: \")\n",
    "        Panier.append(produit)\n",
    "        print(f\"{produit} a été ajouté au panier.\")\n",
    "    elif choix == \"2\":\n",
    "        if Panier:\n",
    "            print(\"Contenu du panier:\")\n",
    "            for produit in Panier:\n",
    "                print(f\"- {produit}\")\n",
    "        else:\n",
    "            print(\"Le panier est vide.\")\n",
    "    elif choix == \"3\":\n",
    "        produit = input(\"Entrez le nom du produit à supprimer: \")\n",
    "        if produit in Panier:\n",
    "            Panier.remove(produit)\n",
    "            print(f\"{produit} a été supprimé du panier.\")\n",
    "        else:\n",
    "            print(f\"{produit} n'est pas dans le panier.\")\n",
    "    elif choix == \"4\":\n",
    "        print(\"Merci de votre visite!\")\n",
    "        break\n",
    "    else:\n",
    "        print(\"Choix invalide, veuillez réessayer.\")"
   ]
  },
  {
   "cell_type": "code",
   "execution_count": null,
   "id": "0199dda5",
   "metadata": {},
   "outputs": [
    {
     "name": "stdout",
     "output_type": "stream",
     "text": [
      "La somme de 5 et 10 est: 15\n"
     ]
    }
   ],
   "source": [
    "###Les fonctions\n",
    "def saluer(a,b):\n",
    "    somme=a+b\n",
    "    print(\"La somme de\", a, \"et\", b, \"est:\", somme)\n",
    "    \n"
   ]
  },
  {
   "cell_type": "code",
   "execution_count": 47,
   "id": "040c44ee",
   "metadata": {},
   "outputs": [
    {
     "name": "stdout",
     "output_type": "stream",
     "text": [
      "mon nom est\n"
     ]
    }
   ],
   "source": [
    "def afficher_infos_personne():\n",
    "    print(\"mon nom est\")\n",
    "\n",
    "afficher_infos_personne()"
   ]
  },
  {
   "cell_type": "code",
   "execution_count": 28,
   "id": "ac4f2290",
   "metadata": {},
   "outputs": [
    {
     "name": "stdout",
     "output_type": "stream",
     "text": [
      "Le carré de 5 est: 25\n"
     ]
    }
   ],
   "source": [
    "def carre(nb):\n",
    "    nb_carre = nb ** 2\n",
    "    print(\"Le carré de\", nb, \"est:\", nb_carre)\n",
    "\n",
    "a=carre(5)\n"
   ]
  },
  {
   "cell_type": "code",
   "execution_count": 37,
   "id": "e4908e65",
   "metadata": {},
   "outputs": [
    {
     "name": "stdout",
     "output_type": "stream",
     "text": [
      "la surface du rectangle est : 15\n"
     ]
    }
   ],
   "source": [
    "def calcul_rectangle(longueur, largeur):\n",
    "    surface = longueur * largeur\n",
    "    print(f\"la surface du rectangle est : {surface}\")\n",
    "\n",
    "calcul_rectangle(5, 3)\n",
    "\n"
   ]
  },
  {
   "cell_type": "code",
   "execution_count": 59,
   "id": "71111754",
   "metadata": {},
   "outputs": [
    {
     "data": {
      "text/plain": [
       "'nb'"
      ]
     },
     "execution_count": 59,
     "metadata": {},
     "output_type": "execute_result"
    }
   ],
   "source": [
    "def somme(*nombres):\n",
    "    total = sum(nombres)\n",
    "    return \"nb\"\n",
    "\n",
    "somme(1, 2, 3, 4, 5)\n",
    "\n"
   ]
  },
  {
   "cell_type": "code",
   "execution_count": 65,
   "id": "d214373a",
   "metadata": {},
   "outputs": [
    {
     "name": "stdout",
     "output_type": "stream",
     "text": [
      "Bonjour!\n"
     ]
    }
   ],
   "source": [
    "def bonjour():\n",
    "    return \"Bonjour!\"\n",
    "\n",
    "c = bonjour()\n",
    "print(c)"
   ]
  },
  {
   "cell_type": "code",
   "execution_count": 71,
   "id": "6106a9d9",
   "metadata": {},
   "outputs": [
    {
     "name": "stdout",
     "output_type": "stream",
     "text": [
      "Bonjour Saad !\n"
     ]
    }
   ],
   "source": [
    "def saluer(nom):\n",
    "    print(\"Bonjour\",nom,\"!\")\n",
    "saluer(\"Saad\")"
   ]
  },
  {
   "cell_type": "code",
   "execution_count": 78,
   "id": "1239e84c",
   "metadata": {},
   "outputs": [
    {
     "name": "stdout",
     "output_type": "stream",
     "text": [
      "le carre de  est  16\n"
     ]
    }
   ],
   "source": [
    "def carre(x):\n",
    "    return x ** 2\n",
    "\n",
    "c = carre(4)\n",
    "print(f\"le carre de  est \",c)"
   ]
  },
  {
   "cell_type": "code",
   "execution_count": 85,
   "id": "36cd74a5",
   "metadata": {},
   "outputs": [
    {
     "name": "stdout",
     "output_type": "stream",
     "text": [
      "Employé ajouté : {'nom': 'Alice', 'poste': 'Développeur'}\n",
      "Employé ajouté : {'nom': 'Bob', 'poste': 'Designer'}\n"
     ]
    }
   ],
   "source": [
    "def ajouter_employe(nom, poste):\n",
    "    p={\"nom\": nom, \"poste\": poste}\n",
    "    print(f\"Employé ajouté : {p}\")\n",
    "L=[]\n",
    "L.append(ajouter_employe(\"Alice\", \"Développeur\"))\n",
    "L.append(ajouter_employe(\"Bob\", \"Designer\"))"
   ]
  },
  {
   "cell_type": "code",
   "execution_count": 88,
   "id": "c8381ee4",
   "metadata": {},
   "outputs": [
    {
     "name": "stdout",
     "output_type": "stream",
     "text": [
      "{'nom': 'Stylo', 'prix': 1.5}\n"
     ]
    }
   ],
   "source": [
    "def ajouter_article(nom, prix):\n",
    "    article = {\"nom\": nom, \"prix\": prix}\n",
    "    return article\n",
    "\n",
    "c=ajouter_article(\"Stylo\", 1.5)\n",
    "print(c)"
   ]
  },
  {
   "cell_type": "code",
   "execution_count": 89,
   "id": "ab278e13",
   "metadata": {},
   "outputs": [
    {
     "name": "stdout",
     "output_type": "stream",
     "text": [
      "1.5\n"
     ]
    }
   ],
   "source": [
    "def calcul_total(panier):\n",
    "    T=0\n",
    "    for article in panier:\n",
    "        T+=article[\"prix\"]\n",
    "    return T\n",
    "U=calcul_total([c])\n",
    "print(U)"
   ]
  },
  {
   "cell_type": "code",
   "execution_count": null,
   "id": "2b2a4c8b",
   "metadata": {},
   "outputs": [],
   "source": []
  }
 ],
 "metadata": {
  "kernelspec": {
   "display_name": "Python 3",
   "language": "python",
   "name": "python3"
  },
  "language_info": {
   "codemirror_mode": {
    "name": "ipython",
    "version": 3
   },
   "file_extension": ".py",
   "mimetype": "text/x-python",
   "name": "python",
   "nbconvert_exporter": "python",
   "pygments_lexer": "ipython3",
   "version": "3.13.7"
  }
 },
 "nbformat": 4,
 "nbformat_minor": 5
}
