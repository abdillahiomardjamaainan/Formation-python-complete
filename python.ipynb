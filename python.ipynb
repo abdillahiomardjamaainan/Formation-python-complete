{
 "cells": [
  {
   "cell_type": "markdown",
   "id": "6d1abe58",
   "metadata": {},
   "source": [
    "Cours sur les Boucles"
   ]
  },
  {
   "cell_type": "markdown",
   "id": "32b55705",
   "metadata": {},
   "source": [
    "Une boucle for sert a répéter une action pour chaque élément d'une sequence\n",
    "\n",
    "la syntaxe général est la suivante:\n",
    "for variable in sequence:\n",
    "        ##bloc d'instruction"
   ]
  },
  {
   "cell_type": "code",
   "execution_count": 4,
   "id": "112385cf",
   "metadata": {},
   "outputs": [
    {
     "name": "stdout",
     "output_type": "stream",
     "text": [
      "0\n",
      "1\n",
      "2\n",
      "3\n",
      "4\n"
     ]
    }
   ],
   "source": [
    "##Avec rang()\n",
    "for i in range(5):\n",
    "    print(i)"
   ]
  },
  {
   "cell_type": "code",
   "execution_count": 7,
   "id": "090b1263",
   "metadata": {},
   "outputs": [
    {
     "name": "stdout",
     "output_type": "stream",
     "text": [
      "fruit : pomme\n",
      "fruit : banane\n",
      "fruit : orange\n"
     ]
    }
   ],
   "source": [
    "fruits=[\"pomme\",\"banane\",\"orange\"]\n",
    "for fruit in fruits:\n",
    "    print(\"fruit :\",fruit)"
   ]
  },
  {
   "cell_type": "code",
   "execution_count": null,
   "id": "14d49441",
   "metadata": {},
   "outputs": [
    {
     "name": "stdout",
     "output_type": "stream",
     "text": [
      "i: 1\n",
      "i: 4\n",
      "i: 7\n"
     ]
    }
   ],
   "source": [
    "for i in range(1,10,3):\n",
    "    print(\"i:\",i)"
   ]
  },
  {
   "cell_type": "code",
   "execution_count": 23,
   "id": "845eddc3",
   "metadata": {},
   "outputs": [
    {
     "name": "stdout",
     "output_type": "stream",
     "text": [
      "nom : Saad\n",
      "age : 30\n",
      "ville : Paris\n"
     ]
    }
   ],
   "source": [
    "##Avec un dictionnaire\n",
    "personne={\"nom\":\"Saad\",\"age\":30,\"ville\":\"Paris\"}\n",
    "for cle,valeur in personne.items():\n",
    "    print(cle,\":\",valeur)"
   ]
  },
  {
   "cell_type": "code",
   "execution_count": 31,
   "id": "badab029",
   "metadata": {},
   "outputs": [
    {
     "name": "stdout",
     "output_type": "stream",
     "text": [
      "Nom: Ali , Numéro de téléphone : 0123456789\n",
      "Nom: Sara , Numéro de téléphone : 9876543210\n",
      "Nom: John , Numéro de téléphone : 5555555555\n",
      "Nom: Youssef , Numéro de téléphone : 0619202122\n"
     ]
    }
   ],
   "source": [
    "Contacts={\"Ali\": \"0123456789\",\"Sara\": \"9876543210\",\"John\": \"5555555555\"}\n",
    "Contacts[\"Youssef\"]=\"0619202122\"\n",
    "for cle,valeur in Contacts.items():\n",
    "    print(\"Nom:\",cle, \",\",\"Numéro de téléphone :\",valeur)"
   ]
  },
  {
   "cell_type": "markdown",
   "id": "5628ae2c",
   "metadata": {},
   "source": [
    "EXOS:SUIVI DES VENTES D'une équipe\n",
    "\n",
    "Une entreprise veut suivre les ventes mensuelles de son equipe commerciale."
   ]
  },
  {
   "cell_type": "code",
   "execution_count": 39,
   "id": "0f9ffb94",
   "metadata": {},
   "outputs": [
    {
     "name": "stdout",
     "output_type": "stream",
     "text": [
      "Vendeur: Charlie , Ventes: 18000\n",
      "Vendeur: Eve , Ventes: 20000\n"
     ]
    }
   ],
   "source": [
    "Ventes={\"Alice\":15000,\"Bob\":12000,\"Charlie\":18000,\"Diana\":9000,\"Eve\":20000}\n",
    "\n",
    "for cle,valeur in Ventes.items():\n",
    "    if valeur > 15000:\n",
    "        print(\"Vendeur:\", cle, \",\", \"Ventes:\", valeur)"
   ]
  },
  {
   "cell_type": "code",
   "execution_count": 52,
   "id": "8affb849",
   "metadata": {},
   "outputs": [
    {
     "name": "stdout",
     "output_type": "stream",
     "text": [
      "Chiffre d'affaires: 74000\n"
     ]
    }
   ],
   "source": [
    "\n",
    "for cle,valeur in Ventes.items():\n",
    "    calcul=sum(Ventes.values())\n",
    "print(\"Chiffre d'affaires:\", calcul)"
   ]
  },
  {
   "cell_type": "code",
   "execution_count": 53,
   "id": "f9361204",
   "metadata": {},
   "outputs": [
    {
     "name": "stdout",
     "output_type": "stream",
     "text": [
      "Meilleure vente: 20000\n"
     ]
    }
   ],
   "source": [
    "for cle,valeur in Ventes.items():\n",
    "    m=max(Ventes.values())\n",
    "print(\"Meilleure vente:\", m)"
   ]
  },
  {
   "cell_type": "code",
   "execution_count": 56,
   "id": "a0020031",
   "metadata": {},
   "outputs": [
    {
     "name": "stdout",
     "output_type": "stream",
     "text": [
      "Prix total: 54\n"
     ]
    }
   ],
   "source": [
    "Prix=[12,13,14,15]\n",
    "C=0\n",
    "for i in Prix:\n",
    "    C+=i\n",
    "print(\"Prix total:\", C)\n"
   ]
  },
  {
   "cell_type": "code",
   "execution_count": null,
   "id": "90643bb0",
   "metadata": {},
   "outputs": [
    {
     "name": "stdout",
     "output_type": "stream",
     "text": [
      "Nombre pair: 0\n",
      "Nombre pair: 2\n",
      "Nombre pair: 4\n",
      "Nombre pair: 6\n",
      "Nombre pair: 8\n",
      "Nombre pair: 10\n",
      "Nombre pair: 12\n",
      "Nombre pair: 14\n",
      "Nombre pair: 16\n",
      "Nombre pair: 18\n",
      "Nombre pair: 20\n"
     ]
    }
   ],
   "source": [
    "r=range(21)\n",
    "for i in r:\n",
    "    if i % 2 == 0:\n",
    "      print(\"Nombre pair:\", i)\n"
   ]
  },
  {
   "cell_type": "code",
   "execution_count": 62,
   "id": "58a431d3",
   "metadata": {},
   "outputs": [
    {
     "name": "stdout",
     "output_type": "stream",
     "text": [
      "La moyenne des notes est: 12.0\n"
     ]
    }
   ],
   "source": [
    "note1=int(input(\"Entrez une note: \"))\n",
    "note2=int(input(\"Entrez une autre note: \"))\n",
    "note3=int(input(\"Entrez une troisième note: \"))\n",
    "note4=int(input(\"Entrez une quatrième note: \"))\n",
    "note5=int(input(\"Entrez une cinquième note: \"))\n",
    "notes=[note1,note2,note3,note4,note5]\n",
    "somme=0\n",
    "for n in notes:\n",
    "    somme+=n\n",
    "    moyenne=somme/len(notes)\n",
    "print(\"La moyenne des notes est:\", moyenne)"
   ]
  },
  {
   "cell_type": "code",
   "execution_count": null,
   "id": "a9ffce30",
   "metadata": {},
   "outputs": [
    {
     "name": "stdout",
     "output_type": "stream",
     "text": [
      "s\n",
      "a\n",
      "a\n",
      "d\n"
     ]
    }
   ],
   "source": [
    "Prenom=\"Saad\"\n",
    "for i in Prenom:\n",
    "    print(i.upper))"
   ]
  },
  {
   "cell_type": "code",
   "execution_count": 67,
   "id": "a3d12abf",
   "metadata": {},
   "outputs": [
    {
     "name": "stdout",
     "output_type": "stream",
     "text": [
      "Voyelle trouvée: a\n",
      "Voyelle trouvée: i\n"
     ]
    }
   ],
   "source": [
    "user=input(\"entrer un mot: \")\n",
    "for i in user:\n",
    "    if i in \"aeiouy\":\n",
    "        print(\"Voyelle trouvée:\", i)\n",
    "   "
   ]
  },
  {
   "cell_type": "code",
   "execution_count": 68,
   "id": "fb96d848",
   "metadata": {},
   "outputs": [
    {
     "name": "stdout",
     "output_type": "stream",
     "text": [
      "Client : Alice, Facture : 100\n",
      "Client : Bob, Facture : 200\n",
      "Client : Charlie, Facture : 150\n"
     ]
    }
   ],
   "source": [
    "Clients = [\"Alice\", \"Bob\", \"Charlie\"]\n",
    "factures = [100, 200, 150]\n",
    "\n",
    "for i in range(len(Clients)):\n",
    "    print(f\"Client : {Clients[i]}, Facture : {factures[i]}\")"
   ]
  },
  {
   "cell_type": "code",
   "execution_count": 71,
   "id": "2552eb6e",
   "metadata": {},
   "outputs": [
    {
     "name": "stdout",
     "output_type": "stream",
     "text": [
      "Pomme est de couleur Rouge\n",
      "Pomme est de couleur Jaune\n",
      "Pomme est de couleur Rouge\n",
      "Banane est de couleur Rouge\n",
      "Banane est de couleur Jaune\n",
      "Banane est de couleur Rouge\n",
      "Cerise est de couleur Rouge\n",
      "Cerise est de couleur Jaune\n",
      "Cerise est de couleur Rouge\n"
     ]
    }
   ],
   "source": [
    "fruits = [\"Pomme\", \"Banane\", \"Cerise\"]\n",
    "couleurs = [\"Rouge\", \"Jaune\", \"Rouge\"]\n",
    "for fruit in fruits:\n",
    "    for couleur in couleurs:\n",
    "        print(f\"{fruit} est de couleur {couleur}\")\n",
    "    "
   ]
  },
  {
   "cell_type": "code",
   "execution_count": 74,
   "id": "326a7725",
   "metadata": {},
   "outputs": [
    {
     "name": "stdout",
     "output_type": "stream",
     "text": [
      "fruit:Pomme est de couleur :Rouge\n",
      "fruit:Pomme est de couleur :Jaune\n",
      "fruit:Pomme est de couleur :Rouge\n",
      "fruit:Banane est de couleur :Rouge\n",
      "fruit:Banane est de couleur :Jaune\n",
      "fruit:Banane est de couleur :Rouge\n",
      "fruit:Cerise est de couleur :Rouge\n",
      "fruit:Cerise est de couleur :Jaune\n",
      "fruit:Cerise est de couleur :Rouge\n"
     ]
    }
   ],
   "source": [
    "for a in fruits:\n",
    "    for b in couleurs:\n",
    "        print(f\"fruit:{a} est de couleur :{b}\")"
   ]
  },
  {
   "cell_type": "code",
   "execution_count": 76,
   "id": "e199f328",
   "metadata": {},
   "outputs": [
    {
     "name": "stdout",
     "output_type": "stream",
     "text": [
      "le rayon Boisson contient Eau\n",
      "le rayon Boisson contient Jus\n",
      "le rayon Boisson contient Soda\n",
      "le rayon Snacks contient Chips\n",
      "le rayon Snacks contient Barre chocolatée\n"
     ]
    }
   ],
   "source": [
    "inventaire={\"Boisson\":[\"Eau\",\"Jus\",\"Soda\"],\"Snacks\":[\"Chips\",\"Barre chocolatée\"]}\n",
    "for cle,valeur in inventaire.items():\n",
    "    for j in valeur:\n",
    "        print(f\"le rayon {cle} contient {j}\")\n",
    "    "
   ]
  },
  {
   "cell_type": "code",
   "execution_count": 77,
   "id": "a49a4c79",
   "metadata": {},
   "outputs": [
    {
     "name": "stdout",
     "output_type": "stream",
     "text": [
      "il s'agit d'un multiple de 7 Stop\n"
     ]
    }
   ],
   "source": [
    "for i in range(21):\n",
    "    if i%7==0:\n",
    "        print(\"il s'agit d'un multiple de 7\",\"Stop\")\n",
    "        break\n",
    "    print(\"Nombre:\", i)\n",
    "    "
   ]
  },
  {
   "cell_type": "code",
   "execution_count": 87,
   "id": "64c8097a",
   "metadata": {},
   "outputs": [
    {
     "name": "stdout",
     "output_type": "stream",
     "text": [
      "Alice\n",
      "Bob\n"
     ]
    }
   ],
   "source": [
    "P=[\"Alice\",\"Bob\",\"Charlie\"]\n",
    "for i in P:\n",
    "    if i==\"Charlie\":\n",
    "        continue\n",
    "    print(i)"
   ]
  },
  {
   "cell_type": "code",
   "execution_count": 90,
   "id": "fc139810",
   "metadata": {},
   "outputs": [
    {
     "name": "stdout",
     "output_type": "stream",
     "text": [
      "Commande: Pizza\n",
      "Commande: Pâtes\n",
      "Commande: Salade\n"
     ]
    }
   ],
   "source": [
    "## Gestion des commandes annulées\n",
    "\n",
    "commandes=[\"Pizza\",\"Pâtes\",\"Annulée\",\"Salade\"]\n",
    "for i in commandes:\n",
    "    if i==\"Annulée\":\n",
    "        continue\n",
    "    print(\"Commande:\", i)"
   ]
  },
  {
   "cell_type": "code",
   "execution_count": null,
   "id": "f68aebd2",
   "metadata": {},
   "outputs": [
    {
     "name": "stdout",
     "output_type": "stream",
     "text": [
      "Email envoyé a Bob\n",
      "Email envoyé a Charlie\n"
     ]
    }
   ],
   "source": [
    "\n"
   ]
  },
  {
   "cell_type": "markdown",
   "id": "b8bccaf3",
   "metadata": {},
   "source": [
    "Le boucle while permet de répéter un bloc de code tant qu'une condition est vrai."
   ]
  }
 ],
 "metadata": {
  "kernelspec": {
   "display_name": "Python 3",
   "language": "python",
   "name": "python3"
  },
  "language_info": {
   "codemirror_mode": {
    "name": "ipython",
    "version": 3
   },
   "file_extension": ".py",
   "mimetype": "text/x-python",
   "name": "python",
   "nbconvert_exporter": "python",
   "pygments_lexer": "ipython3",
   "version": "3.13.7"
  }
 },
 "nbformat": 4,
 "nbformat_minor": 5
}
